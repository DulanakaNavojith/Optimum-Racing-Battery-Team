{
  "nbformat": 4,
  "nbformat_minor": 0,
  "metadata": {
    "colab": {
      "provenance": [],
      "authorship_tag": "ABX9TyPSfnaHJBk98ODGb3cEZ54s",
      "include_colab_link": true
    },
    "kernelspec": {
      "name": "python3",
      "display_name": "Python 3"
    },
    "language_info": {
      "name": "python"
    }
  },
  "cells": [
    {
      "cell_type": "markdown",
      "metadata": {
        "id": "view-in-github",
        "colab_type": "text"
      },
      "source": [
        "<a href=\"https://colab.research.google.com/github/DulanakaNavojith/Optimum-Racing-Battery-Team/blob/main/FS_Battery.ipynb\" target=\"_parent\"><img src=\"https://colab.research.google.com/assets/colab-badge.svg\" alt=\"Open In Colab\"/></a>"
      ]
    },
    {
      "cell_type": "code",
      "execution_count": 154,
      "metadata": {
        "id": "WXtdJMbw9LJv",
        "colab": {
          "base_uri": "https://localhost:8080/",
          "height": 70
        },
        "outputId": "1f0fead0-cf7d-419e-ff35-f2ab2b5314bf"
      },
      "outputs": [
        {
          "output_type": "execute_result",
          "data": {
            "text/plain": [
              "\"\\nrpm = 0\\nrpm_values = []\\nmotor_peak_p_values = []\\nmotor_cont_p_values = []\\n\\nwhile rpm <= 6500:\\n    rpm += 0.1\\n    #Power varing along the peak curve\\n    motor_peak_p = motor_peak(rpm, motor_peak_p)\\n    \\n    #Power varing along the cont curve\\n    motor_cont_p = motor_cont(rpm, motor_cont_p)\\n\\n\\n    rpm_values.append(rpm)\\n    motor_peak_p_values.append(motor_peak_p)\\n    motor_cont_p_values.append(motor_cont_p)\\n    #print(rpm,' | ',motor_peak_p,' | ',motor_cont_p)\\n\\nplt.plot(rpm_values, motor_peak_p_values, label='Peak Power')\\nplt.plot(rpm_values, motor_cont_p_values, label='Continuous Power')\\nplt.xlabel('RPM')\\nplt.ylabel('Power (kW)')\\nplt.legend()\\nplt.show()\\n\""
            ],
            "application/vnd.google.colaboratory.intrinsic+json": {
              "type": "string"
            }
          },
          "metadata": {},
          "execution_count": 154
        }
      ],
      "source": [
        "import matplotlib.pyplot as plt\n",
        "\n",
        "# Motor spec\n",
        "motor_peak_p = 0\n",
        "motor_cont_p = 0\n",
        "\n",
        "\n",
        "def motor_peak(rpm, motor_peak_p):\n",
        "    if motor_peak_p<120:\n",
        "        peak_grad_l = 60 / 2500  # kW/rpm\n",
        "        motor_peak_p = peak_grad_l * rpm\n",
        "    elif motor_peak_p >= 120 and rpm > 5000:\n",
        "        peak_grad_b = 60 / 2500 - (60 / 2500) * (5 /32500)*(rpm-5000)\n",
        "        motor_peak_p = peak_grad_b * rpm\n",
        "        if motor_peak_p == 123 and rpm > 5500:\n",
        "            motor_peak_p = 123\n",
        "    return motor_peak_p\n",
        "\n",
        "def motor_cont(rpm, motor_cont_p):\n",
        "    if motor_cont_p < 60:\n",
        "        cont_grad_l = 35 / 3000\n",
        "        motor_cont_p = cont_grad_l * rpm\n",
        "    elif motor_cont_p >= 60  and rpm > 5200:\n",
        "        cont_grad_b = 35 / 3000 - (35 / 3000) * (5 /32500)*(rpm-5200)\n",
        "        motor_cont_p = cont_grad_b * rpm\n",
        "        if motor_cont_p == 63 and rpm > 5800:\n",
        "            motor_cont_p = 63\n",
        "    return motor_cont_p\n",
        "\n",
        "\n",
        "\n",
        "#according to the given rpm value, can have furthure variation from there\n",
        "\n",
        "'''\n",
        "rpm = 0\n",
        "rpm_values = []\n",
        "motor_peak_p_values = []\n",
        "motor_cont_p_values = []\n",
        "\n",
        "while rpm <= 6500:\n",
        "    rpm += 0.1\n",
        "    #Power varing along the peak curve\n",
        "    motor_peak_p = motor_peak(rpm, motor_peak_p)\n",
        "\n",
        "    #Power varing along the cont curve\n",
        "    motor_cont_p = motor_cont(rpm, motor_cont_p)\n",
        "\n",
        "\n",
        "    rpm_values.append(rpm)\n",
        "    motor_peak_p_values.append(motor_peak_p)\n",
        "    motor_cont_p_values.append(motor_cont_p)\n",
        "    #print(rpm,' | ',motor_peak_p,' | ',motor_cont_p)\n",
        "\n",
        "plt.plot(rpm_values, motor_peak_p_values, label='Peak Power')\n",
        "plt.plot(rpm_values, motor_cont_p_values, label='Continuous Power')\n",
        "plt.xlabel('RPM')\n",
        "plt.ylabel('Power (kW)')\n",
        "plt.legend()\n",
        "plt.show()\n",
        "'''"
      ]
    },
    {
      "cell_type": "code",
      "source": [
        "#To fint thelimit rpm value for the given called_p\n",
        "\n",
        "def peak_limit_rpm (called_p):\n",
        "    if called_p<120:\n",
        "        peak_grad_l = 60 / 2500  # kW/rpm\n",
        "        limit_peak_rpm = called_p/peak_grad_l\n",
        "        return limit_peak_rpm\n",
        "    elif called_p >= 120:\n",
        "        peak_grad_b = 60 / 2500 - (60 / 2500) * (5 /32500)*(rpm-5000)\n",
        "        limit_peak_rpm = called_p/ peak_grad_l\n",
        "        if motor_peak_p == 123:\n",
        "            limit_peak_rpm = 5500\n",
        "    return limit_peak_rpm\n",
        "\n",
        "\n",
        "def cont_limit_rpm(called_p):\n",
        "    global cont_grad_l\n",
        "    global cont_grad_b\n",
        "    if called_p < 60:\n",
        "        cont_grad_l = 35 / 3000\n",
        "        limit_cont_rpm = called_p / cont_grad_l\n",
        "    elif called_p >= 60:\n",
        "        cont_grad_b = 35 / 3000 - (35 / 3000) * (5 /32500)*(rpm-5200)\n",
        "        limit_cont_rpm = called_p/cont_grad_b\n",
        "        if called_p == 63:\n",
        "            limit_cont_rpm = 5800\n",
        "    return limit_cont_rpm\n",
        "\n",
        "\n",
        "#Test\n",
        "#called_p = 28\n",
        "#print('limit_peak_rpm = ' ,peak_limit_rpm(called_p))\n",
        "#print('limit_cont_rpm = ' , cont_limit_rpm(called_p))\n",
        "\n"
      ],
      "metadata": {
        "id": "uxagfhVo_smh"
      },
      "execution_count": 155,
      "outputs": []
    },
    {
      "cell_type": "code",
      "source": [
        "#Batetry specscdefine at once\n",
        "class Battery:\n",
        "    def __init__(self, type_c, cap_c, max_cv, nom_cv, cut_cv, max_ci, weight_c, par_count, ser_count):\n",
        "        self.type_c = type_c\n",
        "        self.cap_c = cap_c  # Cell Capacity Ah\n",
        "        self.max_cv = max_cv  # Max cell voltage\n",
        "        self.nom_cv = nom_cv  # Nominal Voltage\n",
        "        self.cut_cv = cut_cv  # Cutoff Voltage\n",
        "        self.max_ci = max_ci  # Max continuous discharging\n",
        "        self.weight_c = weight_c  # Weight in Gram\n",
        "        self.par_count = par_count  # Parallel cells in string\n",
        "        self.ser_count = ser_count  # Series modules\n",
        "\n",
        "    def max_min(self):\n",
        "        max_pv = self.max_cv * self.ser_count\n",
        "        nom_pv = self.nom_cv * self.ser_count\n",
        "        cut_pv = self.cut_cv * self.ser_count\n",
        "\n",
        "        max_pi = (motor_power / cut_pv)*1000 #A\n",
        "        nom_pi = (motor_power / nom_pv)*1000 #A\n",
        "        min_pi = (motor_power / max_pv)*1000 #A\n",
        "\n",
        "        min_time = 60 * self.cap_c / (max_pi / self.par_count)\n",
        "        nom_time = 60 * self.cap_c / (nom_pi / self.par_count)\n",
        "        max_time = 60 * self.cap_c / (min_pi / self.par_count)\n",
        "\n",
        "        return max_pv, nom_pv, cut_pv, max_pi, nom_pi, min_pi, min_time, nom_time, max_time\n",
        "\n",
        "    def calc(self, var_pi):\n",
        "        battery_resis = 0.015  # ohm\n",
        "        var_ci = var_pi / self.par_count\n",
        "        v_drop = battery_resis * var_ci\n",
        "        drop_pv = v_drop * (nom_pv / self.nom_cv)\n",
        "        var_pv = motor_power*1000 / var_pi\n",
        "        var_pv -= drop_pv\n",
        "        return var_pv,v_drop,drop_pv\n",
        "\n",
        "\n",
        "#Test\n",
        "motor_power = 30\n",
        "var_pi = 30000/350\n",
        "\n",
        "#battery = Battery(\"18650\", 2.8, 4.2, 3.6, 2.5, 35, 46, 10, 100)\n",
        "battery = Battery(\"21700\", 4.5, 4.2, 3.6, 2.5, 45, 70, 8, 96)\n",
        "max_pv, nom_pv, cut_pv, max_pi, nom_pi, min_pi, min_time, nom_time, max_time = battery.max_min()\n",
        "var_pv = battery.calc(var_pi)\n",
        "\n",
        "print(\"Max Pack Voltage:\", max_pv)\n",
        "print(\"Nominal Pack Voltage:\", nom_pv)\n",
        "print(\"Cutoff Pack Voltage:\", cut_pv)\n",
        "print(\"Max Pack Current:\", max_pi)\n",
        "print(\"Nominal Pack Current:\", nom_pi)\n",
        "print(\"Minimum Pack Current:\", min_pi)\n",
        "print(\"Minimum Travel Time:\", min_time)\n",
        "print(\"Nominal Travel Time:\", nom_time)\n",
        "print(\"Maximum Travel Time:\", max_time)\n",
        "print(\"Cell Voltage Drop:\", var_pv[1])\n",
        "print(\"Pack Voltage Drop:\", var_pv[2])\n",
        "print(\"Real Pack Voltage (From Nominal Voltage):\", var_pv[0])"
      ],
      "metadata": {
        "colab": {
          "base_uri": "https://localhost:8080/"
        },
        "id": "CKkDLfz-brBe",
        "outputId": "2d47875b-3310-4809-85e7-4fd0061c62a8"
      },
      "execution_count": 156,
      "outputs": [
        {
          "output_type": "stream",
          "name": "stdout",
          "text": [
            "Max Pack Voltage: 403.20000000000005\n",
            "Nominal Pack Voltage: 345.6\n",
            "Cutoff Pack Voltage: 240.0\n",
            "Max Pack Current: 125.0\n",
            "Nominal Pack Current: 86.80555555555556\n",
            "Minimum Pack Current: 74.40476190476188\n",
            "Minimum Travel Time: 17.28\n",
            "Nominal Travel Time: 24.8832\n",
            "Maximum Travel Time: 29.030400000000007\n",
            "Cell Voltage Drop: 0.1607142857142857\n",
            "Pack Voltage Drop: 15.428571428571427\n",
            "Real Pack Voltage (From Nominal Voltage): 334.57142857142856\n"
          ]
        }
      ]
    },
    {
      "cell_type": "code",
      "source": [
        "#Motor Specs (Motor maximum power we are planning to achieve)\n",
        "max_motor_power = 70\n",
        "throt_reso = 100\n"
      ],
      "metadata": {
        "id": "Lqib2Ec7L2yJ"
      },
      "execution_count": 158,
      "outputs": []
    },
    {
      "cell_type": "code",
      "source": [
        "#Define the throttle map with time\n",
        "def throt_map():\n",
        "  throt_posi = 40 #throttle position 0-100\n",
        "  delta_t = 10  #delta time is 1 mili sec\n",
        "  return throt_posi,delta_t"
      ],
      "metadata": {
        "id": "NE47jv8tOq0a"
      },
      "execution_count": 159,
      "outputs": []
    },
    {
      "cell_type": "code",
      "source": [
        "#motor power varing method with the accelerations\n",
        "def throt_grad(max_motor_power,throt_reso):\n",
        "  #deliver power of the motor with 0-1 throttle posissioning\n",
        "  throt_grad_ =  float(max_motor_power/throt_reso)\n",
        "  return throt_grad_\n",
        "\n",
        "#Test\n",
        "throt_grad(max_motor_power,throt_reso)"
      ],
      "metadata": {
        "colab": {
          "base_uri": "https://localhost:8080/"
        },
        "id": "Yn2dQZAJ9EPw",
        "outputId": "6e53115c-ab0e-46ed-a250-da3f51dcb76b"
      },
      "execution_count": 160,
      "outputs": [
        {
          "output_type": "execute_result",
          "data": {
            "text/plain": [
              "0.7"
            ]
          },
          "metadata": {},
          "execution_count": 160
        }
      ]
    },
    {
      "cell_type": "code",
      "source": [
        "import matplotlib.pyplot as plt\n",
        "\n",
        "#Check 1\n",
        "global var_rpm\n",
        "\n",
        "def called_power(throt_grad_,throt_posi,delta_t,var_rpm):\n",
        "  called_p = throt_grad_ * throt_posi #called rated power with the prottle position\n",
        "  grad_acc = called_p / delta_t  #delta_t(s) is returned from the throt_map()\n",
        "  return called_p, grad_acc\n",
        "\n",
        "\n",
        "def vary(grad_acc,var_rpm,called_p):\n",
        "  if grad_acc > 1:\n",
        "    if var_rpm < peak_limit_rpm(called_p):\n",
        "      var_power = motor_peak(var_rpm,motor_peak_p)\n",
        "      return var_power\n",
        "\n",
        "    elif var_rpm < cont_limit_rpm(called_p):  #peak to continuous: motor reached to the called_power limit, then the power goes down to the continous and going along\n",
        "      #according to the current rpm, power will rapidly drop to the level of continous power curve\n",
        "      var_power = motor_cont(var_rpm,motor_cont_p)\n",
        "      return var_power\n",
        "\n",
        "    elif var_rpm >= cont_limit_rpm(called_p):\n",
        "      var_power = motor_cont(cont_limit_rpm(called_p),motor_cont_p)\n",
        "      return var_power\n",
        "\n",
        "  elif grad_acc < 1:\n",
        "    var_power = motor_cont(var_rpm,motor_cont_p)\n",
        "    return var_power\n",
        "\n",
        "\n",
        "# Initialize lists to store the data points\n",
        "var_rpm_values = []\n",
        "var_power_values = []\n",
        "\n",
        "#Test\n",
        "var_rpm =0\n",
        "while var_rpm < 4000:\n",
        "  var_rpm += 10\n",
        "\n",
        "  throt_grad_ = throt_grad(max_motor_power, throt_reso)\n",
        "  throt_posi,delta_t = throt_map()\n",
        "  called_p, grad_acc = called_power(throt_grad_,throt_posi,delta_t,var_rpm)\n",
        "  var_power = vary(grad_acc,var_rpm,called_p)\n",
        "  #print(peak_limit_rpm(called_p), ' | ' ,cont_limit_rpm(called_p) , ' | ', var_rpm , ' | ' , var_power )\n",
        "\n",
        "  #append the data points to the lists\n",
        "  var_rpm_values.append(var_rpm)\n",
        "  var_power_values.append(var_power)\n",
        "\n",
        "#relationship between var_power and var_rpm\n",
        "plt.plot(var_rpm_values, var_power_values)\n",
        "plt.xlabel('var_rpm')\n",
        "plt.ylabel('var_power')\n",
        "plt.title('Relationship between var_power and var_rpm')\n",
        "plt.show()\n",
        "\n",
        ""
      ],
      "metadata": {
        "colab": {
          "base_uri": "https://localhost:8080/",
          "height": 472
        },
        "id": "_q3M1mQmOuDz",
        "outputId": "30b75005-9105-42b1-c261-a50c6dc6b1c1"
      },
      "execution_count": 181,
      "outputs": [
        {
          "output_type": "display_data",
          "data": {
            "text/plain": [
              "<Figure size 640x480 with 1 Axes>"
            ],
            "image/png": "[encoded data removed]"
          },
          "metadata": {}
        }
      ]
    }
  ]
}